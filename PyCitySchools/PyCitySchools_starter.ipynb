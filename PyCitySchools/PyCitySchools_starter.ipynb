{
 "cells": [
  {
   "cell_type": "markdown",
   "metadata": {},
   "source": [
    "### Note\n",
    "* Instructions have been included for each segment. You do not have to follow them exactly, but they are included to help you think through the steps."
   ]
  },
  {
   "cell_type": "code",
   "execution_count": 1,
   "metadata": {},
   "outputs": [],
   "source": [
    "# Dependencies and Setup\n",
    "import pandas as pd\n",
    "\n",
    "# File to Load (Remember to Change These)\n",
    "school_data_to_load = \"Resources/schools_complete.csv\"\n",
    "student_data_to_load = \"Resources/students_complete.csv\"\n",
    "\n",
    "# Read School and Student Data File and store into Pandas DataFrames\n",
    "school_data = pd.read_csv(school_data_to_load)\n",
    "student_data = pd.read_csv(student_data_to_load)\n",
    "\n",
    "# Combine the data into a single dataset.  \n",
    "school_data_complete = pd.merge(student_data, school_data, how=\"left\", on=[\"school_name\", \"school_name\"])"
   ]
  },
  {
   "cell_type": "markdown",
   "metadata": {},
   "source": [
    "## District Summary\n",
    "\n",
    "* Calculate the total number of schools\n",
    "\n",
    "* Calculate the total number of students\n",
    "\n",
    "* Calculate the total budget\n",
    "\n",
    "* Calculate the average math score \n",
    "\n",
    "* Calculate the average reading score\n",
    "\n",
    "* Calculate the percentage of students with a passing math score (70 or greater)\n",
    "\n",
    "* Calculate the percentage of students with a passing reading score (70 or greater)\n",
    "\n",
    "* Calculate the percentage of students who passed math **and** reading (% Overall Passing)\n",
    "\n",
    "* Create a dataframe to hold the above results\n",
    "\n",
    "* Optional: give the displayed data cleaner formatting"
   ]
  },
  {
   "cell_type": "code",
   "execution_count": 2,
   "metadata": {
    "scrolled": false
   },
   "outputs": [
    {
     "data": {
      "text/html": [
       "<div>\n",
       "<style scoped>\n",
       "    .dataframe tbody tr th:only-of-type {\n",
       "        vertical-align: middle;\n",
       "    }\n",
       "\n",
       "    .dataframe tbody tr th {\n",
       "        vertical-align: top;\n",
       "    }\n",
       "\n",
       "    .dataframe thead th {\n",
       "        text-align: right;\n",
       "    }\n",
       "</style>\n",
       "<table border=\"1\" class=\"dataframe\">\n",
       "  <thead>\n",
       "    <tr style=\"text-align: right;\">\n",
       "      <th></th>\n",
       "      <th>Total Schools</th>\n",
       "      <th>Total Students</th>\n",
       "      <th>Total Budget</th>\n",
       "      <th>Average Math Score</th>\n",
       "      <th>Average Reading Score</th>\n",
       "      <th>% Passing Math</th>\n",
       "      <th>% Passing Reading</th>\n",
       "      <th>% Passing Overall</th>\n",
       "    </tr>\n",
       "  </thead>\n",
       "  <tbody>\n",
       "    <tr>\n",
       "      <td>0</td>\n",
       "      <td>15</td>\n",
       "      <td>39170</td>\n",
       "      <td>24649428</td>\n",
       "      <td>78.985371</td>\n",
       "      <td>81.87784</td>\n",
       "      <td>74.980853</td>\n",
       "      <td>85.805463</td>\n",
       "      <td>65.172326</td>\n",
       "    </tr>\n",
       "  </tbody>\n",
       "</table>\n",
       "</div>"
      ],
      "text/plain": [
       "   Total Schools  Total Students  Total Budget  Average Math Score  \\\n",
       "0             15           39170      24649428           78.985371   \n",
       "\n",
       "   Average Reading Score  % Passing Math  % Passing Reading  % Passing Overall  \n",
       "0               81.87784       74.980853          85.805463          65.172326  "
      ]
     },
     "execution_count": 2,
     "metadata": {},
     "output_type": "execute_result"
    }
   ],
   "source": [
    "# define variables that will populate the snapshot dataframe\n",
    "school_sum = len(school_data_complete[\"school_name\"].unique())\n",
    "student_sum = school_data_complete[\"student_name\"].count()\n",
    "avg_math = school_data_complete[\"math_score\"].mean()\n",
    "avg_reading = school_data_complete[\"reading_score\"].mean()\n",
    "\n",
    "# refer to the unmerged school_data set for list of school budgets\n",
    "total_budget = school_data[\"budget\"].sum()\n",
    "\n",
    "# filter for math scores 70 or greater\n",
    "passing_math = school_data_complete.loc[school_data_complete[\"math_score\"] >= 70].count()[\"Student ID\"]\n",
    "pct_passing_math = passing_math / float(student_sum)*100\n",
    "\n",
    "# filter for reading scores 70 or greater\n",
    "passing_reading = school_data_complete.loc[school_data_complete[\"reading_score\"] >= 70].count()[\"Student ID\"]\n",
    "pct_passing_reading = passing_reading / float(student_sum)*100\n",
    "\n",
    "# filter for math AND reading scores 70 or greater\n",
    "passing_overall = len(school_data_complete.loc[(school_data_complete[\"reading_score\"] >= 70) & (school_data_complete[\"math_score\"] >= 70)])/student_sum*100\n",
    "\n",
    "# Creating a summary DataFrame using above values\n",
    "district_summary_df = pd.DataFrame({\"Total Schools\": [school_sum],\n",
    "                                   \"Total Students\": [student_sum],\n",
    "                                   \"Total Budget\": [total_budget],\n",
    "                                   \"Average Math Score\": [avg_math],\n",
    "                                   \"Average Reading Score\": [avg_reading],\n",
    "                                   \"% Passing Math\": [pct_passing_math],\n",
    "                                   \"% Passing Reading\": [pct_passing_reading],\n",
    "                                   \"% Passing Overall\": [passing_overall]})\n",
    "district_summary_df"
   ]
  },
  {
   "cell_type": "markdown",
   "metadata": {},
   "source": [
    "## School Summary"
   ]
  },
  {
   "cell_type": "markdown",
   "metadata": {},
   "source": [
    "* Create an overview table that summarizes key metrics about each school, including:\n",
    "  * School Name\n",
    "  * School Type\n",
    "  * Total Students\n",
    "  * Total School Budget\n",
    "  * Per Student Budget\n",
    "  * Average Math Score\n",
    "  * Average Reading Score\n",
    "  * % Passing Math\n",
    "  * % Passing Reading\n",
    "  * % Overall Passing (The percentage of students that passed math **and** reading.)\n",
    "  \n",
    "* Create a dataframe to hold the above results"
   ]
  },
  {
   "cell_type": "code",
   "execution_count": 138,
   "metadata": {},
   "outputs": [
    {
     "ename": "SyntaxError",
     "evalue": "invalid syntax (<ipython-input-138-3d4477dffb77>, line 33)",
     "output_type": "error",
     "traceback": [
      "\u001b[1;36m  File \u001b[1;32m\"<ipython-input-138-3d4477dffb77>\"\u001b[1;36m, line \u001b[1;32m33\u001b[0m\n\u001b[1;33m    \"% Passing Math\": school_passing_math\u001b[0m\n\u001b[1;37m                   ^\u001b[0m\n\u001b[1;31mSyntaxError\u001b[0m\u001b[1;31m:\u001b[0m invalid syntax\n"
     ]
    }
   ],
   "source": [
    "# Groupby school_name\n",
    "grouped_school_df = school_data_complete.groupby(\"school_name\")\n",
    "\n",
    "# define variables that will populate the summary dataframe\n",
    "# school_name = grouped_school_df[\"school_name\"].count()\n",
    "school_type = grouped_school_df[\"type\"].unique()\n",
    "school_student_count = grouped_school_df[\"Student ID\"].count()\n",
    "school_budget = grouped_school_df[\"budget\"].unique()\n",
    "per_student_budget = school_budget / school_student_count\n",
    "school_avg_math = grouped_school_df[\"math_score\"].mean()\n",
    "school_avg_reading = grouped_school_df[\"reading_score\"].mean()\n",
    "\n",
    "# filter for math scores 70 or greater\n",
    "school_passing_math = school_data_complete[school_data_complete[\"math_score\"] >= 70]\n",
    "# school_pct_pass_math = school_passing_math / float[school_student_count] * 100\n",
    "\n",
    "# filter for reading scores 70 or greater\n",
    "# passing_reading = school_data_complete[school_data_complete[\"reading_score\"] >= 70]\n",
    "# pct_passing_reading = passing_reading / float[student_sum]*100\n",
    "\n",
    "# filter for math AND reading scores 70 or greater\n",
    "# passing_overall = len(school_data_complete.loc[(school_data_complete[\"reading_score\"] >= 70) & (school_data_complete[\"math_score\"] >= 70)])/student_sum*100\n",
    "\n",
    "# school_passing_overall = \n",
    "\n",
    "# Create overview table to summarize all the metrics\n",
    "school_summary_df = pd.DataFrame({\"School Type\": school_type,\n",
    "                                  \"Total Students\": school_student_count,\n",
    "                                  \"Total School Budget\": school_budget,\n",
    "                                  \"Per Student Budget\": per_student_budget,\n",
    "                                  \"Average Math Score\": school_avg_math,\n",
    "                                  \"Average Reading Score\": school_avg_reading\n",
    "                                  \"% Passing Math\": school_passing_math\n",
    "#                                    \"% Passing Reading\": [school_pct_pass_reading],\n",
    "#                                    \"% Passing Overall\": [school_passing_overall]\n",
    "                        })\n",
    "\n",
    "# grouped_school_df.count().head()\n",
    "school_summary_df"
   ]
  },
  {
   "cell_type": "markdown",
   "metadata": {},
   "source": [
    "## Top Performing Schools (By % Overall Passing)"
   ]
  },
  {
   "cell_type": "markdown",
   "metadata": {},
   "source": [
    "* Sort and display the top five performing schools by % overall passing."
   ]
  },
  {
   "cell_type": "code",
   "execution_count": null,
   "metadata": {
    "scrolled": true
   },
   "outputs": [],
   "source": [
    "Top_schools_df = school_summary_df.sort_values(\"% Passing Overall\", ascending=False)\n",
    "Top_schools_df.head()"
   ]
  },
  {
   "cell_type": "markdown",
   "metadata": {},
   "source": [
    "## Bottom Performing Schools (By % Overall Passing)"
   ]
  },
  {
   "cell_type": "markdown",
   "metadata": {},
   "source": [
    "* Sort and display the five worst-performing schools by % overall passing."
   ]
  },
  {
   "cell_type": "code",
   "execution_count": null,
   "metadata": {},
   "outputs": [],
   "source": [
    "Bottom_schools_df = school_summary_df.sort_values(\"% Passing Overall\", ascending=True)\n",
    "Bottom_schools_df.head()"
   ]
  },
  {
   "cell_type": "markdown",
   "metadata": {
    "collapsed": true
   },
   "source": [
    "## Math Scores by Grade"
   ]
  },
  {
   "cell_type": "markdown",
   "metadata": {},
   "source": [
    "* Create a table that lists the average Reading Score for students of each grade level (9th, 10th, 11th, 12th) at each school.\n",
    "\n",
    "  * Create a pandas series for each grade. Hint: use a conditional statement.\n",
    "  \n",
    "  * Group each series by school\n",
    "  \n",
    "  * Combine the series into a dataframe\n",
    "  \n",
    "  * Optional: give the displayed data cleaner formatting"
   ]
  },
  {
   "cell_type": "code",
   "execution_count": null,
   "metadata": {},
   "outputs": [],
   "source": []
  },
  {
   "cell_type": "markdown",
   "metadata": {},
   "source": [
    "## Reading Score by Grade "
   ]
  },
  {
   "cell_type": "markdown",
   "metadata": {},
   "source": [
    "* Perform the same operations as above for reading scores"
   ]
  },
  {
   "cell_type": "code",
   "execution_count": null,
   "metadata": {},
   "outputs": [],
   "source": []
  },
  {
   "cell_type": "markdown",
   "metadata": {},
   "source": [
    "## Scores by School Spending"
   ]
  },
  {
   "cell_type": "markdown",
   "metadata": {},
   "source": [
    "* Create a table that breaks down school performances based on average Spending Ranges (Per Student). Use 4 reasonable bins to group school spending. Include in the table each of the following:\n",
    "  * Average Math Score\n",
    "  * Average Reading Score\n",
    "  * % Passing Math\n",
    "  * % Passing Reading\n",
    "  * Overall Passing Rate (Average of the above two)"
   ]
  },
  {
   "cell_type": "code",
   "execution_count": null,
   "metadata": {},
   "outputs": [],
   "source": []
  },
  {
   "cell_type": "markdown",
   "metadata": {},
   "source": [
    "## Scores by School Size"
   ]
  },
  {
   "cell_type": "markdown",
   "metadata": {},
   "source": [
    "* Perform the same operations as above, based on school size."
   ]
  },
  {
   "cell_type": "code",
   "execution_count": null,
   "metadata": {
    "scrolled": true
   },
   "outputs": [],
   "source": []
  },
  {
   "cell_type": "markdown",
   "metadata": {},
   "source": [
    "## Scores by School Type"
   ]
  },
  {
   "cell_type": "markdown",
   "metadata": {},
   "source": [
    "* Perform the same operations as above, based on school type"
   ]
  },
  {
   "cell_type": "code",
   "execution_count": null,
   "metadata": {},
   "outputs": [],
   "source": []
  },
  {
   "cell_type": "code",
   "execution_count": null,
   "metadata": {},
   "outputs": [],
   "source": []
  }
 ],
 "metadata": {
  "anaconda-cloud": {},
  "kernel_info": {
   "name": "python3"
  },
  "kernelspec": {
   "display_name": "Python 3",
   "language": "python",
   "name": "python3"
  },
  "language_info": {
   "codemirror_mode": {
    "name": "ipython",
    "version": 3
   },
   "file_extension": ".py",
   "mimetype": "text/x-python",
   "name": "python",
   "nbconvert_exporter": "python",
   "pygments_lexer": "ipython3",
   "version": "3.7.4"
  },
  "latex_envs": {
   "LaTeX_envs_menu_present": true,
   "autoclose": false,
   "autocomplete": true,
   "bibliofile": "biblio.bib",
   "cite_by": "apalike",
   "current_citInitial": 1,
   "eqLabelWithNumbers": true,
   "eqNumInitial": 1,
   "hotkeys": {
    "equation": "Ctrl-E",
    "itemize": "Ctrl-I"
   },
   "labels_anchors": false,
   "latex_user_defs": false,
   "report_style_numbering": false,
   "user_envs_cfg": false
  },
  "nteract": {
   "version": "0.8.4"
  }
 },
 "nbformat": 4,
 "nbformat_minor": 1
}
